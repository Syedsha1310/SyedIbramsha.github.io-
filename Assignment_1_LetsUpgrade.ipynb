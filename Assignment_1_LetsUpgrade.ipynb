{
  "nbformat": 4,
  "nbformat_minor": 0,
  "metadata": {
    "colab": {
      "provenance": [],
      "authorship_tag": "ABX9TyOLhmQYWB7jEMYJGzwu7/iK",
      "include_colab_link": true
    },
    "kernelspec": {
      "name": "python3",
      "display_name": "Python 3"
    },
    "language_info": {
      "name": "python"
    }
  },
  "cells": [
    {
      "cell_type": "markdown",
      "metadata": {
        "id": "view-in-github",
        "colab_type": "text"
      },
      "source": [
        "<a href=\"https://colab.research.google.com/github/Syedsha1310/SyedIbramsha.github.io-/blob/main/Assignment_1_LetsUpgrade.ipynb\" target=\"_parent\"><img src=\"https://colab.research.google.com/assets/colab-badge.svg\" alt=\"Open In Colab\"/></a>"
      ]
    },
    {
      "cell_type": "code",
      "execution_count": 1,
      "metadata": {
        "colab": {
          "base_uri": "https://localhost:8080/"
        },
        "id": "SAHsXyx9UUZX",
        "outputId": "91691c44-31bf-4798-b128-885ca56dc47f"
      },
      "outputs": [
        {
          "output_type": "stream",
          "name": "stdout",
          "text": [
            "Row:6\n",
            "Column:4\n",
            "[[0, 0, 0, 0], [0, 1, 2, 3], [0, 2, 4, 6], [0, 3, 6, 9], [0, 4, 8, 12], [0, 5, 10, 15]]\n"
          ]
        }
      ],
      "source": [
        "m=int(input(\"Row:\"))\n",
        "n=int(input(\"Column:\"))\n",
        "matrix=[[0 for col in range(n)] for row in range(m)]\n",
        "for row in range(m):\n",
        "    for col in range(n):\n",
        "        matrix[row][col]=row*col\n",
        "print(matrix)"
      ]
    }
  ]
}